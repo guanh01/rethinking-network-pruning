{
 "cells": [
  {
   "cell_type": "code",
   "execution_count": 1,
   "metadata": {},
   "outputs": [
    {
     "name": "stderr",
     "output_type": "stream",
     "text": [
      "/home/hguan2/anaconda2/envs/distiller/lib/python3.5/site-packages/h5py/__init__.py:36: FutureWarning: Conversion of the second argument of issubdtype from `float` to `np.floating` is deprecated. In future, it will be treated as `np.float64 == np.dtype(float).type`.\n",
      "  from ._conv import register_converters as _register_converters\n"
     ]
    },
    {
     "name": "stdout",
     "output_type": "stream",
     "text": [
      "using GPU: True\n"
     ]
    }
   ],
   "source": [
    "import distiller \n",
    "import numpy as np\n",
    "import os, collections\n",
    "import bitstring \n",
    "import time \n",
    "import torch\n",
    "import torch.nn as nn\n",
    "from torch.autograd import Variable\n",
    "from torchvision import datasets, transforms\n",
    "import torch.nn.functional as F\n",
    "import torchvision \n",
    "import models \n",
    "from matplotlib import pyplot as plt\n",
    "from eval_util import test_imagenet \n",
    "# import multiprocessing \n",
    "%matplotlib inline\n",
    "\n",
    "print('using GPU:', torch.cuda.is_available())"
   ]
  },
  {
   "cell_type": "code",
   "execution_count": 2,
   "metadata": {},
   "outputs": [
    {
     "name": "stderr",
     "output_type": "stream",
     "text": [
      "/home/hguan2/anaconda2/envs/distiller/lib/python3.5/site-packages/torchvision/models/squeezenet.py:94: UserWarning: nn.init.kaiming_uniform is now deprecated in favor of nn.init.kaiming_uniform_.\n",
      "  init.kaiming_uniform(m.weight.data)\n",
      "/home/hguan2/anaconda2/envs/distiller/lib/python3.5/site-packages/torchvision/models/squeezenet.py:92: UserWarning: nn.init.normal is now deprecated in favor of nn.init.normal_.\n",
      "  init.normal(m.weight.data, mean=0.0, std=0.01)\n",
      "/home/hguan2/anaconda2/envs/distiller/lib/python3.5/site-packages/torchvision/models/densenet.py:212: UserWarning: nn.init.kaiming_normal is now deprecated in favor of nn.init.kaiming_normal_.\n",
      "  nn.init.kaiming_normal(m.weight.data)\n"
     ]
    },
    {
     "name": "stdout",
     "output_type": "stream",
     "text": [
      "AlexNet(\n",
      "  (features): Sequential(\n",
      "    (0): Conv2d(3, 64, kernel_size=(11, 11), stride=(4, 4), padding=(2, 2))\n",
      "    (1): ReLU(inplace)\n",
      "    (2): MaxPool2d(kernel_size=3, stride=2, padding=0, dilation=1, ceil_mode=False)\n",
      "    (3): Conv2d(64, 192, kernel_size=(5, 5), stride=(1, 1), padding=(2, 2))\n",
      "    (4): ReLU(inplace)\n",
      "    (5): MaxPool2d(kernel_size=3, stride=2, padding=0, dilation=1, ceil_mode=False)\n",
      "    (6): Conv2d(192, 384, kernel_size=(3, 3), stride=(1, 1), padding=(1, 1))\n",
      "    (7): ReLU(inplace)\n",
      "    (8): Conv2d(384, 256, kernel_size=(3, 3), stride=(1, 1), padding=(1, 1))\n",
      "    (9): ReLU(inplace)\n",
      "    (10): Conv2d(256, 256, kernel_size=(3, 3), stride=(1, 1), padding=(1, 1))\n",
      "    (11): ReLU(inplace)\n",
      "    (12): MaxPool2d(kernel_size=3, stride=2, padding=0, dilation=1, ceil_mode=False)\n",
      "  )\n",
      "  (classifier): Sequential(\n",
      "    (0): Dropout(p=0.5)\n",
      "    (1): Linear(in_features=9216, out_features=4096, bias=True)\n",
      "    (2): ReLU(inplace)\n",
      "    (3): Dropout(p=0.5)\n",
      "    (4): Linear(in_features=4096, out_features=4096, bias=True)\n",
      "    (5): ReLU(inplace)\n",
      "    (6): Linear(in_features=4096, out_features=1000, bias=True)\n",
      "  )\n",
      ")\n"
     ]
    }
   ],
   "source": [
    "# check the weight distribution of other pre-trained models in torch vision\n",
    "# use resnet18, alexnet, vgg16 \n",
    "\n",
    "pretrained_models = {'resnet18': torchvision.models.resnet18(pretrained=True),\n",
    "                     'resnet34': torchvision.models.resnet34(pretrained=True),\n",
    "                     'alexnet': torchvision.models.alexnet(pretrained=True),\n",
    "                     'squeezenet': torchvision.models.squeezenet1_0(pretrained=True),\n",
    "                     'vgg16':  torchvision.models.vgg16(pretrained=True), \n",
    "                      'vgg16_bn':  torchvision.models.vgg16_bn(pretrained=True), \n",
    "                     'densenet':  torchvision.models.densenet161(pretrained=True),\n",
    "                     'inception_v3':  torchvision.models.inception_v3(pretrained=True),\n",
    "                    }\n",
    "# for model_name, pretrained_model in pretrained_models.items():\n",
    "#     tensor = [param.data.cpu().numpy().ravel() for param in pretrained_model.parameters()]\n",
    "#     tensor = np.concatenate(tensor)\n",
    "#     minv, maxv = np.min(tensor), np.max(tensor)\n",
    "#     num_values = tensor.shape[0]\n",
    "#     plt.hist(tensor, bins=10000)\n",
    "#     plt.title(model_name+ ':[%f, %f], #=%.1f(M)' %(minv, maxv, num_values/10e6))\n",
    "#     plt.show()\n",
    "\n",
    "model_name = 'alexnet'\n",
    "model = pretrained_models[model_name]\n",
    "print(model)"
   ]
  },
  {
   "cell_type": "code",
   "execution_count": 3,
   "metadata": {},
   "outputs": [],
   "source": [
    "# print(acc1)"
   ]
  },
  {
   "cell_type": "code",
   "execution_count": 4,
   "metadata": {},
   "outputs": [
    {
     "name": "stdout",
     "output_type": "stream",
     "text": [
      "Test: [  0/500]\tTime  1.249 ( 1.249)\tLoss 9.9806e-01 (9.9806e-01)\tAcc@1  80.00 ( 80.00)\tAcc@5  88.00 ( 88.00)\n",
      "Test: [ 10/500]\tTime  1.031 ( 1.116)\tLoss 1.5428e+00 (1.1033e+00)\tAcc@1  64.00 ( 74.09)\tAcc@5  82.00 ( 89.00)\n",
      "Test: [ 20/500]\tTime  0.981 ( 1.125)\tLoss 1.4201e+00 (1.3543e+00)\tAcc@1  50.00 ( 68.19)\tAcc@5  90.00 ( 86.43)\n",
      "Test: [ 30/500]\tTime  1.038 ( 1.108)\tLoss 2.6921e+00 (1.5994e+00)\tAcc@1  40.00 ( 62.74)\tAcc@5  71.00 ( 83.39)\n",
      "Test: [ 40/500]\tTime  0.995 ( 1.103)\tLoss 9.6465e-01 (1.6422e+00)\tAcc@1  79.00 ( 61.51)\tAcc@5  88.00 ( 82.98)\n",
      "Acc@1: 64.860, Acc@5: 84.640\n"
     ]
    }
   ],
   "source": [
    "valdir = '/home/hguan2/datasets/imagenet/val'\n",
    "acc1 = test_imagenet(model, valdir, num_batches=50)"
   ]
  },
  {
   "cell_type": "code",
   "execution_count": 5,
   "metadata": {},
   "outputs": [
    {
     "name": "stdout",
     "output_type": "stream",
     "text": [
      "AlexNet(\n",
      "  (features): Sequential(\n",
      "    (0): RangeLinearQuantParamLayerWrapper(\n",
      "      mode=SYMMETRIC, num_bits_acts=8, num_bits_params=8, num_bits_accum=32, clip_acts=False, per_channel_wts=False\n",
      "      preset_activation_stats=False\n",
      "      w_scale=135.7703, w_zero_point=0.0000\n",
      "      base_b_scale=45.2447, base_b_zero_point=0.0000\n",
      "      (wrapped_module): Conv2d(3, 64, kernel_size=(11, 11), stride=(4, 4), padding=(2, 2))\n",
      "    )\n",
      "    (1): ReLU(inplace)\n",
      "    (2): MaxPool2d(kernel_size=3, stride=2, padding=0, dilation=1, ceil_mode=False)\n",
      "    (3): RangeLinearQuantParamLayerWrapper(\n",
      "      mode=SYMMETRIC, num_bits_acts=8, num_bits_params=8, num_bits_accum=32, clip_acts=False, per_channel_wts=False\n",
      "      preset_activation_stats=False\n",
      "      w_scale=57.0281, w_zero_point=0.0000\n",
      "      base_b_scale=254.3297, base_b_zero_point=0.0000\n",
      "      (wrapped_module): Conv2d(64, 192, kernel_size=(5, 5), stride=(1, 1), padding=(2, 2))\n",
      "    )\n",
      "    (4): ReLU(inplace)\n",
      "    (5): MaxPool2d(kernel_size=3, stride=2, padding=0, dilation=1, ceil_mode=False)\n",
      "    (6): RangeLinearQuantParamLayerWrapper(\n",
      "      mode=SYMMETRIC, num_bits_acts=8, num_bits_params=8, num_bits_accum=32, clip_acts=False, per_channel_wts=False\n",
      "      preset_activation_stats=False\n",
      "      w_scale=148.4304, w_zero_point=0.0000\n",
      "      base_b_scale=229.7970, base_b_zero_point=0.0000\n",
      "      (wrapped_module): Conv2d(192, 384, kernel_size=(3, 3), stride=(1, 1), padding=(1, 1))\n",
      "    )\n",
      "    (7): ReLU(inplace)\n",
      "    (8): RangeLinearQuantParamLayerWrapper(\n",
      "      mode=SYMMETRIC, num_bits_acts=8, num_bits_params=8, num_bits_accum=32, clip_acts=False, per_channel_wts=False\n",
      "      preset_activation_stats=False\n",
      "      w_scale=326.9010, w_zero_point=0.0000\n",
      "      base_b_scale=89.0331, base_b_zero_point=0.0000\n",
      "      (wrapped_module): Conv2d(384, 256, kernel_size=(3, 3), stride=(1, 1), padding=(1, 1))\n",
      "    )\n",
      "    (9): ReLU(inplace)\n",
      "    (10): RangeLinearQuantParamLayerWrapper(\n",
      "      mode=SYMMETRIC, num_bits_acts=8, num_bits_params=8, num_bits_accum=32, clip_acts=False, per_channel_wts=False\n",
      "      preset_activation_stats=False\n",
      "      w_scale=561.8413, w_zero_point=0.0000\n",
      "      base_b_scale=52.8700, base_b_zero_point=0.0000\n",
      "      (wrapped_module): Conv2d(256, 256, kernel_size=(3, 3), stride=(1, 1), padding=(1, 1))\n",
      "    )\n",
      "    (11): ReLU(inplace)\n",
      "    (12): MaxPool2d(kernel_size=3, stride=2, padding=0, dilation=1, ceil_mode=False)\n",
      "  )\n",
      "  (classifier): Sequential(\n",
      "    (0): Dropout(p=0.5)\n",
      "    (1): RangeLinearQuantParamLayerWrapper(\n",
      "      mode=SYMMETRIC, num_bits_acts=8, num_bits_params=8, num_bits_accum=32, clip_acts=False, per_channel_wts=False\n",
      "      preset_activation_stats=False\n",
      "      w_scale=1804.5466, w_zero_point=0.0000\n",
      "      base_b_scale=1349.9022, base_b_zero_point=0.0000\n",
      "      (wrapped_module): Linear(in_features=9216, out_features=4096, bias=True)\n",
      "    )\n",
      "    (2): ReLU(inplace)\n",
      "    (3): Dropout(p=0.5)\n",
      "    (4): RangeLinearQuantParamLayerWrapper(\n",
      "      mode=SYMMETRIC, num_bits_acts=8, num_bits_params=8, num_bits_accum=32, clip_acts=False, per_channel_wts=False\n",
      "      preset_activation_stats=False\n",
      "      w_scale=1216.8192, w_zero_point=0.0000\n",
      "      base_b_scale=691.2797, base_b_zero_point=0.0000\n",
      "      (wrapped_module): Linear(in_features=4096, out_features=4096, bias=True)\n",
      "    )\n",
      "    (5): ReLU(inplace)\n",
      "    (6): RangeLinearQuantParamLayerWrapper(\n",
      "      mode=SYMMETRIC, num_bits_acts=8, num_bits_params=8, num_bits_accum=32, clip_acts=False, per_channel_wts=False\n",
      "      preset_activation_stats=False\n",
      "      w_scale=577.7387, w_zero_point=0.0000\n",
      "      base_b_scale=779.8414, base_b_zero_point=0.0000\n",
      "      (wrapped_module): Linear(in_features=4096, out_features=1000, bias=True)\n",
      "    )\n",
      "  )\n",
      ")\n"
     ]
    }
   ],
   "source": [
    "# post train quantization \n",
    "quantizer = distiller.quantization.PostTrainLinearQuantizer(model)\n",
    "quantizer.prepare_model()\n",
    "print(model)"
   ]
  },
  {
   "cell_type": "code",
   "execution_count": 6,
   "metadata": {},
   "outputs": [
    {
     "name": "stdout",
     "output_type": "stream",
     "text": [
      "Test: [  0/500]\tTime  1.229 ( 1.229)\tLoss 1.0247e+00 (1.0247e+00)\tAcc@1  81.00 ( 81.00)\tAcc@5  88.00 ( 88.00)\n",
      "Test: [ 10/500]\tTime  0.999 ( 1.125)\tLoss 1.5532e+00 (1.1451e+00)\tAcc@1  67.00 ( 74.00)\tAcc@5  84.00 ( 89.00)\n",
      "Test: [ 20/500]\tTime  0.979 ( 1.129)\tLoss 1.4807e+00 (1.3883e+00)\tAcc@1  53.00 ( 68.00)\tAcc@5  90.00 ( 86.43)\n",
      "Test: [ 30/500]\tTime  1.033 ( 1.112)\tLoss 2.6967e+00 (1.6292e+00)\tAcc@1  39.00 ( 62.68)\tAcc@5  72.00 ( 83.35)\n",
      "Test: [ 40/500]\tTime  0.966 ( 1.105)\tLoss 1.0108e+00 (1.6735e+00)\tAcc@1  77.00 ( 61.46)\tAcc@5  87.00 ( 82.90)\n",
      "Acc@1: 64.800, Acc@5: 84.580\n"
     ]
    }
   ],
   "source": [
    "acc1 = test_imagenet(model, valdir, num_batches=50)"
   ]
  },
  {
   "cell_type": "code",
   "execution_count": 6,
   "metadata": {},
   "outputs": [],
   "source": [
    "# check the distribution of parameters \n",
    "# thr = 32\n",
    "# layer_id = 0 \n",
    "# for param_name, param in model.named_parameters():\n",
    "#     if len(param.size()) < 2:\n",
    "#         continue\n",
    "#     counter = collections.Counter(np.abs(param.data.cpu().numpy().ravel())//thr)\n",
    "#     tmp = sorted(counter.items(), key=lambda x: x[0])\n",
    "#     values, counts = zip(*tmp)\n",
    "#     percentages = [count/sum(list(counts)) for count in counts]\n",
    "#     bar = plt.bar(values, percentages)\n",
    "#     for rect in bar:\n",
    "#         height = rect.get_height()\n",
    "#         plt.text(rect.get_x() + rect.get_width()/2.0, height, '%.4f%%' %(height*100), ha='center', va='bottom')\n",
    "# #     print(['%.2f' %(p) for p in percentages])\n",
    "#     #plt.hist(param.data.cpu().numpy().ravel(), bins=10, density=True)\n",
    "#     plt.xticks(values, [str(int(v)*thr+thr) for v in values])\n",
    "#     plt.title('layer_id:'+str(layer_id) + ', '+ str(tuple(param.size())))\n",
    "# #     plt.grid()\n",
    "#     plt.ylim(0, 1.1)\n",
    "#     plt.show()\n",
    "#     layer_id += 1"
   ]
  },
  {
   "cell_type": "code",
   "execution_count": 7,
   "metadata": {},
   "outputs": [
    {
     "name": "stdout",
     "output_type": "stream",
     "text": [
      "#weights: 21779648 , #params: 21797672 percentage: 0.999173\n"
     ]
    },
    {
     "data": {
      "image/png": "[encoded data removed]",
      "text/plain": [
       "<Figure size 432x288 with 1 Axes>"
      ]
     },
     "metadata": {},
     "output_type": "display_data"
    }
   ],
   "source": [
    "# check the distribution of parameters all weights\n",
    "thr = 32\n",
    "total_values, num_weights = 0, 0 \n",
    "counter = collections.Counter()\n",
    "for param_name, param in model.named_parameters():\n",
    "    total_values += param.nelement()\n",
    "    if len(param.size()) < 2:\n",
    "        continue\n",
    "    num_weights += param.nelement()\n",
    "    counter.update(collections.Counter(np.abs(param.data.cpu().numpy().ravel())//thr + 1))\n",
    "    \n",
    "tmp = sorted(counter.items(), key=lambda x: x[0])\n",
    "values, counts = zip(*tmp)\n",
    "total_weights = sum(list(counts))\n",
    "\n",
    "assert total_weights == num_weights\n",
    "print('#weights:', total_weights, ', #params:', total_values, 'percentage:', '%.6f' %(num_weights/total_values))\n",
    "\n",
    "percentages = [count/total_weights for count in counts]\n",
    "bar = plt.bar(values, percentages)\n",
    "for rect in bar:\n",
    "    height = rect.get_height()\n",
    "    plt.text(rect.get_x() + rect.get_width()/2.0, height, '%.4f%%' %(height*100), ha='center', va='bottom')\n",
    "#     print(['%.2f' %(p) for p in percentages])\n",
    "#plt.hist(param.data.cpu().numpy().ravel(), bins=10, density=True)\n",
    "plt.xticks(values, [str(int(v)*thr) for v in values])\n",
    "plt.title(model_name)\n",
    "#     plt.grid()\n",
    "plt.ylim(0, 1.1)\n",
    "plt.show()\n"
   ]
  },
  {
   "cell_type": "code",
   "execution_count": null,
   "metadata": {},
   "outputs": [],
   "source": []
  }
 ],
 "metadata": {
  "kernelspec": {
   "display_name": "Python 3",
   "language": "python",
   "name": "python3"
  },
  "language_info": {
   "codemirror_mode": {
    "name": "ipython",
    "version": 3
   },
   "file_extension": ".py",
   "mimetype": "text/x-python",
   "name": "python",
   "nbconvert_exporter": "python",
   "pygments_lexer": "ipython3",
   "version": "3.5.5"
  }
 },
 "nbformat": 4,
 "nbformat_minor": 2
}
