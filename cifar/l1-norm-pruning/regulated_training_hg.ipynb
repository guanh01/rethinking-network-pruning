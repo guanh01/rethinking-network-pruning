{
 "cells": [
  {
   "cell_type": "code",
   "execution_count": 1,
   "metadata": {},
   "outputs": [
    {
     "name": "stderr",
     "output_type": "stream",
     "text": [
      "/home/hguan2/anaconda2/envs/distiller/lib/python3.5/site-packages/h5py/__init__.py:36: FutureWarning: Conversion of the second argument of issubdtype from `float` to `np.floating` is deprecated. In future, it will be treated as `np.float64 == np.dtype(float).type`.\n",
      "  from ._conv import register_converters as _register_converters\n"
     ]
    }
   ],
   "source": [
    "from __future__ import print_function\n",
    "import distiller \n",
    "import argparse\n",
    "import numpy as np\n",
    "import os, collections\n",
    "import shutil\n",
    "\n",
    "import torch\n",
    "import torch.nn as nn\n",
    "import torch.nn.functional as F\n",
    "import torch.optim as optim\n",
    "from torchvision import datasets, transforms\n",
    "from torch.autograd import Variable\n",
    "import time \n",
    "\n",
    "import models\n",
    "from matplotlib import pyplot as plt\n",
    "%matplotlib inline\n",
    "\n",
    "import matplotlib \n",
    "matplotlib.rcParams['pdf.fonttype'] = 42\n"
   ]
  },
  {
   "cell_type": "code",
   "execution_count": 2,
   "metadata": {},
   "outputs": [],
   "source": [
    "def load_checkpoint(checkpoint_path):\n",
    "    resume = checkpoint_path \n",
    "    print(\"=> loading checkpoint '{}'\".format(resume))\n",
    "    checkpoint = torch.load(resume)\n",
    "    start_epoch = checkpoint['epoch']\n",
    "    best_prec1 = checkpoint['best_prec1']\n",
    "    model.load_state_dict(checkpoint['state_dict'])\n",
    "    \n",
    "    print(\"=> loaded checkpoint '{}' (epoch {}) Prec1: {:f}\"\n",
    "          .format(resume, checkpoint['epoch'], best_prec1))\n"
   ]
  },
  {
   "cell_type": "code",
   "execution_count": 3,
   "metadata": {},
   "outputs": [
    {
     "name": "stdout",
     "output_type": "stream",
     "text": [
      "=> loading checkpoint './logs/vgg16/cifar10/regulated_training/l2_1.0/model_best.pth.tar'\n",
      "=> loaded checkpoint './logs/vgg16/cifar10/regulated_training/l2_1.0/model_best.pth.tar' (epoch 7) Prec1: 0.939000\n"
     ]
    }
   ],
   "source": [
    "# before regulated training \n",
    "# checkpoint_path = './logs/vgg16/cifar10/model_best.pth.tar'\n",
    "# after regulated training \n",
    "checkpoint_path = './logs/vgg16/cifar10/regulated_training/l2_1.0/model_best.pth.tar'\n",
    "arch = 'vgg'\n",
    "depth = 16\n",
    "dataset = 'cifar10'\n",
    "model_name = 'vgg16'\n",
    "\n",
    "model = models.__dict__[arch](dataset=dataset, depth=depth)\n",
    "load_checkpoint(checkpoint_path)\n"
   ]
  },
  {
   "cell_type": "code",
   "execution_count": 4,
   "metadata": {},
   "outputs": [],
   "source": [
    "# post train quantization \n",
    "quantizer = distiller.quantization.PostTrainLinearQuantizer(model)\n",
    "quantizer.prepare_model()"
   ]
  },
  {
   "cell_type": "code",
   "execution_count": 5,
   "metadata": {},
   "outputs": [
    {
     "name": "stdout",
     "output_type": "stream",
     "text": [
      "#weights: 14977728 , #params: 14987722 , percentage: 0.999333\n",
      "[('[0, 32)', 14843216, 99.10192), ('[32, 64)', 130827, 0.873477), ('[64, 128]', 3685, 0.024603)]\n"
     ]
    },
    {
     "data": {
      "image/png": "[encoded data removed]",
      "text/plain": [
       "<Figure size 432x288 with 1 Axes>"
      ]
     },
     "metadata": {},
     "output_type": "display_data"
    }
   ],
   "source": [
    "def plot_model_dist(model):\n",
    "    \n",
    "    # check the distribution of parameters all weights\n",
    "    thr = 32\n",
    "    total_values, num_weights = 0, 0 \n",
    "    counter = collections.Counter()\n",
    "    for param_name, param in model.named_parameters():\n",
    "        total_values += param.nelement()\n",
    "        if len(param.size()) < 2:\n",
    "            continue\n",
    "        num_weights += param.nelement()\n",
    "        counter.update(collections.Counter(np.abs(param.data.cpu().numpy().ravel())//thr + 1))\n",
    "\n",
    "    tmp = sorted(counter.items(), key=lambda x: x[0])\n",
    "    values, counts = zip(*tmp)\n",
    "    \n",
    "    # merge the interval [64, 96] and [96, 128]\n",
    "    values = list(values)[:-1]\n",
    "    counts = list(counts)\n",
    "    counts[-2] += counts[-1]\n",
    "    counts.pop() \n",
    "\n",
    "    total_weights = sum(list(counts))\n",
    "    assert total_weights == num_weights\n",
    "    print('#weights:', total_weights, ', #params:', total_values, ', percentage:', '%.6f' %(num_weights/total_values))\n",
    "    \n",
    "    fontsize = 16\n",
    "    xticks = ['[0, 32)', '[32, 64)', '[64, 128]']\n",
    "    percentages = [round(count*100/total_weights, 6) for count in counts]\n",
    "    print(list(zip(xticks, counts, percentages)))\n",
    "    \n",
    "    \n",
    "    bar = plt.bar(values, percentages)\n",
    "    for rect in bar:\n",
    "        height = rect.get_height()\n",
    "        plt.text(rect.get_x() + rect.get_width()/2.0, height, '%.2f%%' %(height), ha='center', va='bottom', fontsize = 16)\n",
    "#     print(['%.6f%%' %(p) for p in percentages])\n",
    "    #plt.hist(param.data.cpu().numpy().ravel(), bins=10, density=True)\n",
    "    # plt.xticks(values, [str(int(v)*thr) for v in values])\n",
    "    plt.xticks(values, xticks, fontsize = 16)\n",
    "    plt.title(model_name, fontsize = 16)\n",
    "    #     plt.grid()\n",
    "    plt.ylim(0, 110)\n",
    "#     plt.show()\n",
    "    plt.yticks(fontsize = 16)\n",
    "    plt.xlabel('value ranges', fontsize = 16)\n",
    "    plt.ylabel('percentage (%)', fontsize = 16)\n",
    "    plt.show()\n",
    "    \n",
    "plot_model_dist(model)"
   ]
  },
  {
   "cell_type": "code",
   "execution_count": 6,
   "metadata": {},
   "outputs": [
    {
     "name": "stdout",
     "output_type": "stream",
     "text": [
      "#large:3136, total:14977728, percentage:0.020938%\n"
     ]
    }
   ],
   "source": [
    "# count the number of weights that are not in position of 8X but is larger than 64 \n",
    "def check_large_weights_count():\n",
    "    count = 0 # number of large weights not in position of 8X \n",
    "    total = 0 # total number of weights \n",
    "    thr = 64\n",
    "    for name, param in model.named_parameters():\n",
    "        if len(param.data.size()) < 2:\n",
    "            continue \n",
    "        tensor1d = param.data.view(-1)\n",
    "        N = len(tensor1d)\n",
    "        total += N \n",
    "        \n",
    "        indexes = [i for i in range(N) if i%8 != 0]\n",
    "        tensor = tensor1d[indexes]\n",
    "#         total += len(indexes)\n",
    "        \n",
    "        large_indexes = torch.nonzero((tensor > thr-1) + (tensor < -thr))\n",
    "        count += large_indexes.nelement()\n",
    "    return count, total, count*100/total  \n",
    "\n",
    "count, total, percentage = check_large_weights_count()\n",
    "print('#large:%d, total:%d, percentage:%f%%' %(count, total, percentage))\n"
   ]
  },
  {
   "cell_type": "code",
   "execution_count": null,
   "metadata": {},
   "outputs": [],
   "source": []
  }
 ],
 "metadata": {
  "kernelspec": {
   "display_name": "Python 3",
   "language": "python",
   "name": "python3"
  },
  "language_info": {
   "codemirror_mode": {
    "name": "ipython",
    "version": 3
   },
   "file_extension": ".py",
   "mimetype": "text/x-python",
   "name": "python",
   "nbconvert_exporter": "python",
   "pygments_lexer": "ipython3",
   "version": "3.5.5"
  }
 },
 "nbformat": 4,
 "nbformat_minor": 2
}
