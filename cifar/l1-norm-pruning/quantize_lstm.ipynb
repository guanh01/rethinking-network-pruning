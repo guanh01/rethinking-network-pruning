{
 "cells": [
  {
   "cell_type": "markdown",
   "metadata": {},
   "source": [
    "# Quantizing RNN Models"
   ]
  },
  {
   "cell_type": "markdown",
   "metadata": {},
   "source": [
    "In this example, we show how to quantize recurrent models.  \n",
    "Using a pretrained model `model.RNNModel`, we convert the built-in pytorch implementation of LSTM to our own, modular implementation.  \n",
    "The pretrained model was generated with:  \n",
    "```time python3 main.py --cuda --emsize 1500 --nhid 1500 --dropout 0.65 --tied --wd=1e-6```  \n",
    "The reason we replace the LSTM that is because the inner operations in the pytorch implementation are not accessible to us, but we still want to quantize these operations. <br />\n",
    "Afterwards we can try different techniques to quantize the whole model.  \n",
    "\n",
    "_NOTE_: We use `tqdm` to plot progress bars, since it's not in `requirements.txt` you should install it using \n",
    "`pip install tqdm`."
   ]
  },
  {
   "cell_type": "code",
   "execution_count": 1,
   "metadata": {},
   "outputs": [
    {
     "name": "stderr",
     "output_type": "stream",
     "text": [
      "/home/hguan2/anaconda2/envs/distiller/lib/python3.5/site-packages/tensorflow/python/framework/dtypes.py:526: FutureWarning: Passing (type, 1) or '1type' as a synonym of type is deprecated; in a future version of numpy, it will be understood as (type, (1,)) / '(1,)type'.\n",
      "  _np_qint8 = np.dtype([(\"qint8\", np.int8, 1)])\n",
      "/home/hguan2/anaconda2/envs/distiller/lib/python3.5/site-packages/tensorflow/python/framework/dtypes.py:527: FutureWarning: Passing (type, 1) or '1type' as a synonym of type is deprecated; in a future version of numpy, it will be understood as (type, (1,)) / '(1,)type'.\n",
      "  _np_quint8 = np.dtype([(\"quint8\", np.uint8, 1)])\n",
      "/home/hguan2/anaconda2/envs/distiller/lib/python3.5/site-packages/tensorflow/python/framework/dtypes.py:528: FutureWarning: Passing (type, 1) or '1type' as a synonym of type is deprecated; in a future version of numpy, it will be understood as (type, (1,)) / '(1,)type'.\n",
      "  _np_qint16 = np.dtype([(\"qint16\", np.int16, 1)])\n",
      "/home/hguan2/anaconda2/envs/distiller/lib/python3.5/site-packages/tensorflow/python/framework/dtypes.py:529: FutureWarning: Passing (type, 1) or '1type' as a synonym of type is deprecated; in a future version of numpy, it will be understood as (type, (1,)) / '(1,)type'.\n",
      "  _np_quint16 = np.dtype([(\"quint16\", np.uint16, 1)])\n",
      "/home/hguan2/anaconda2/envs/distiller/lib/python3.5/site-packages/tensorflow/python/framework/dtypes.py:530: FutureWarning: Passing (type, 1) or '1type' as a synonym of type is deprecated; in a future version of numpy, it will be understood as (type, (1,)) / '(1,)type'.\n",
      "  _np_qint32 = np.dtype([(\"qint32\", np.int32, 1)])\n",
      "/home/hguan2/anaconda2/envs/distiller/lib/python3.5/site-packages/tensorflow/python/framework/dtypes.py:535: FutureWarning: Passing (type, 1) or '1type' as a synonym of type is deprecated; in a future version of numpy, it will be understood as (type, (1,)) / '(1,)type'.\n",
      "  np_resource = np.dtype([(\"resource\", np.ubyte, 1)])\n",
      "/home/hguan2/anaconda2/envs/distiller/lib/python3.5/site-packages/h5py/__init__.py:36: FutureWarning: Conversion of the second argument of issubdtype from `float` to `np.floating` is deprecated. In future, it will be treated as `np.float64 == np.dtype(float).type`.\n",
      "  from ._conv import register_converters as _register_converters\n"
     ]
    }
   ],
   "source": [
    "from model import DistillerRNNModel, RNNModel\n",
    "from data_wikitext.data import Corpus\n",
    "import torch\n",
    "from torch import nn\n",
    "import distiller\n",
    "from distiller.modules import DistillerLSTM as LSTM\n",
    "from tqdm import tqdm # for pretty progress bar\n",
    "import numpy as np\n",
    "from copy import deepcopy"
   ]
  },
  {
   "cell_type": "markdown",
   "metadata": {},
   "source": [
    "### Preprocess the data"
   ]
  },
  {
   "cell_type": "code",
   "execution_count": 2,
   "metadata": {},
   "outputs": [],
   "source": [
    "corpus = Corpus('./data_wikitext/data/wikitext-2/')"
   ]
  },
  {
   "cell_type": "code",
   "execution_count": 3,
   "metadata": {},
   "outputs": [],
   "source": [
    "def batchify(data, bsz):\n",
    "    # Work out how cleanly we can divide the dataset into bsz parts.\n",
    "    nbatch = data.size(0) // bsz\n",
    "    # Trim off any extra elements that wouldn't cleanly fit (remainders).\n",
    "    data = data.narrow(0, 0, nbatch * bsz)\n",
    "    # Evenly divide the data across the bsz batches.\n",
    "    data = data.view(bsz, -1).t().contiguous()\n",
    "    return data.to(device)\n",
    "device = 'cuda:0'\n",
    "batch_size = 20\n",
    "eval_batch_size = 10\n",
    "train_data = batchify(corpus.train, batch_size)\n",
    "val_data = batchify(corpus.valid, eval_batch_size)\n",
    "test_data = batchify(corpus.test, eval_batch_size)"
   ]
  },
  {
   "cell_type": "markdown",
   "metadata": {},
   "source": [
    "### Loading the model and converting to our own implementation"
   ]
  },
  {
   "cell_type": "code",
   "execution_count": 4,
   "metadata": {},
   "outputs": [
    {
     "data": {
      "text/plain": [
       "RNNModel(\n",
       "  (drop): Dropout(p=0.65)\n",
       "  (encoder): Embedding(33278, 1500)\n",
       "  (rnn): LSTM(1500, 1500, num_layers=2, dropout=0.65)\n",
       "  (decoder): Linear(in_features=1500, out_features=33278, bias=True)\n",
       ")"
      ]
     },
     "execution_count": 4,
     "metadata": {},
     "output_type": "execute_result"
    }
   ],
   "source": [
    "rnn_model = torch.load('./logs/lstm/checkpoint.pth.tar.best')\n",
    "rnn_model = rnn_model.to(device)\n",
    "rnn_model"
   ]
  },
  {
   "cell_type": "markdown",
   "metadata": {},
   "source": [
    "Here we convert the pytorch LSTM implementation to our own, by calling `LSTM.from_pytorch_impl`:"
   ]
  },
  {
   "cell_type": "code",
   "execution_count": 5,
   "metadata": {},
   "outputs": [
    {
     "data": {
      "text/plain": [
       "DistillerRNNModel(\n",
       "  (encoder): Embedding(33278, 1500)\n",
       "  (rnn): DistillerLSTM(1500, 1500, num_layers=2, dropout=0.65, bidirectional=False)\n",
       "  (decoder): Linear(in_features=1500, out_features=33278, bias=True)\n",
       ")"
      ]
     },
     "execution_count": 5,
     "metadata": {},
     "output_type": "execute_result"
    }
   ],
   "source": [
    "def manual_model(pytorch_model_: RNNModel):\n",
    "    nlayers, ninp, nhid, ntoken, tie_weights = \\\n",
    "        pytorch_model_.nlayers, \\\n",
    "        pytorch_model_.ninp, \\\n",
    "        pytorch_model_.nhid, \\\n",
    "        pytorch_model_.ntoken, \\\n",
    "        pytorch_model_.tie_weights\n",
    "\n",
    "    model = DistillerRNNModel(nlayers=nlayers, ninp=ninp, nhid=nhid, ntoken=ntoken, tie_weights=tie_weights).to(device)\n",
    "    model.eval()\n",
    "    model.encoder.weight = nn.Parameter(pytorch_model_.encoder.weight.clone().detach())\n",
    "    model.decoder.weight = nn.Parameter(pytorch_model_.decoder.weight.clone().detach())\n",
    "    model.decoder.bias = nn.Parameter(pytorch_model_.decoder.bias.clone().detach())\n",
    "    model.rnn = LSTM.from_pytorch_impl(pytorch_model_.rnn)\n",
    "\n",
    "    return model\n",
    "\n",
    "man_model = manual_model(rnn_model)\n",
    "torch.save(man_model, './logs/lstm/manual.checkpoint.pth.tar')\n",
    "man_model"
   ]
  },
  {
   "cell_type": "markdown",
   "metadata": {},
   "source": [
    "### Batching the data for evaluation"
   ]
  },
  {
   "cell_type": "code",
   "execution_count": 6,
   "metadata": {},
   "outputs": [],
   "source": [
    "sequence_len = 35\n",
    "def get_batch(source, i):\n",
    "    seq_len = min(sequence_len, len(source) - 1 - i)\n",
    "    data = source[i:i+seq_len]\n",
    "    target = source[i+1:i+1+seq_len].view(-1)\n",
    "    return data, target\n",
    "\n",
    "hidden = rnn_model.init_hidden(eval_batch_size)\n",
    "data, targets = get_batch(test_data, 0)"
   ]
  },
  {
   "cell_type": "markdown",
   "metadata": {},
   "source": [
    "### Check that the convertion has succeeded"
   ]
  },
  {
   "cell_type": "code",
   "execution_count": 7,
   "metadata": {},
   "outputs": [
    {
     "name": "stdout",
     "output_type": "stream",
     "text": [
      "Max error in y: 0.000006\n"
     ]
    }
   ],
   "source": [
    "rnn_model.eval()\n",
    "man_model.eval()\n",
    "y_t, h_t = rnn_model(data, hidden)\n",
    "y_p, h_p = man_model(data, hidden)\n",
    "\n",
    "print(\"Max error in y: %f\" % (y_t-y_p).abs().max().item())"
   ]
  },
  {
   "cell_type": "markdown",
   "metadata": {},
   "source": [
    "### Defining the evaluation"
   ]
  },
  {
   "cell_type": "code",
   "execution_count": 8,
   "metadata": {},
   "outputs": [],
   "source": [
    "criterion = nn.CrossEntropyLoss()\n",
    "def repackage_hidden(h):\n",
    "    \"\"\"Wraps hidden states in new Tensors, to detach them from their history.\"\"\"\n",
    "    if isinstance(h, torch.Tensor):\n",
    "        return h.detach()\n",
    "    else:\n",
    "        return tuple(repackage_hidden(v) for v in h)\n",
    "    \n",
    "\n",
    "def evaluate(model, data_source):\n",
    "    # Turn on evaluation mode which disables dropout.\n",
    "    model.eval()\n",
    "    total_loss = 0.\n",
    "    ntokens = len(corpus.dictionary)\n",
    "    hidden = model.init_hidden(eval_batch_size)\n",
    "    with torch.no_grad():\n",
    "        with tqdm(range(0, data_source.size(0), sequence_len)) as t:\n",
    "            # The line below was fixed as per: https://github.com/pytorch/examples/issues/214\n",
    "            for i in t:\n",
    "                data, targets = get_batch(data_source, i)\n",
    "                output, hidden = model(data, hidden)\n",
    "                output_flat = output.view(-1, ntokens)\n",
    "                total_loss += len(data) * criterion(output_flat, targets).item()\n",
    "                hidden = repackage_hidden(hidden)\n",
    "                avg_loss = total_loss / (i + 1)\n",
    "                t.set_postfix((('val_loss', avg_loss), ('ppl', np.exp(avg_loss))))\n",
    "    return total_loss / len(data_source)"
   ]
  },
  {
   "cell_type": "markdown",
   "metadata": {},
   "source": [
    "# Quantizing the Model"
   ]
  },
  {
   "cell_type": "markdown",
   "metadata": {},
   "source": [
    "## Collect activation statistics"
   ]
  },
  {
   "cell_type": "markdown",
   "metadata": {},
   "source": [
    "The model uses activation statistics to determine how big the quantization range is. The bigger the range - the larger the round off error after quantization which leads to accuracy drop.  \n",
    "Our goal is to minimize the range s.t. it contains the absolute most of our data.  \n",
    "After that, we divide the range into chunks of equal size, according to the number of bits, and transform the data according to this scale factor.  \n",
    "Read more on scale factor calculation [in our docs](https://nervanasystems.github.io/distiller/algo_quantization.html).\n",
    "\n",
    "The class `QuantCalibrationStatsCollector` collects the statistics for defining the range $r = max - min$.  \n",
    "\n",
    "Each forward pass, the collector records the values of inputs and outputs, for each layer:\n",
    "- absolute over all batches min, max (stored in `min`, `max`)\n",
    "- average over batches, per batch min, max (stored in `avg_min`, `avg_max`)\n",
    "- mean\n",
    "- std\n",
    "- shape of output tensor  \n",
    "\n",
    "All these values can be used to define the range of quantization, e.g. we can use the absolute `min`, `max` to define the range."
   ]
  },
  {
   "cell_type": "code",
   "execution_count": 9,
   "metadata": {},
   "outputs": [
    {
     "name": "stderr",
     "output_type": "stream",
     "text": [
      "100%|██████████| 622/622 [10:42<00:00,  1.03it/s, val_loss=4.47, ppl=87.3] \n"
     ]
    }
   ],
   "source": [
    "import os\n",
    "from distiller.data_loggers import QuantCalibrationStatsCollector, collector_context\n",
    "\n",
    "man_model = torch.load('./logs/lstm/manual.checkpoint.pth.tar')\n",
    "distiller.utils.assign_layer_fq_names(man_model)\n",
    "collector = QuantCalibrationStatsCollector(man_model)\n",
    "\n",
    "if not os.path.isfile('/logs/lstm/manual_lstm_pretrained_stats.yaml'):\n",
    "    with collector_context(collector) as collector:\n",
    "        val_loss = evaluate(man_model, val_data)\n",
    "        collector.save('./logs/lstm/manual_lstm_pretrained_stats.yaml')"
   ]
  },
  {
   "cell_type": "markdown",
   "metadata": {},
   "source": [
    "## Prepare the Model For Quantization\n",
    "  \n",
    "We quantize the model after the training has completed.  \n",
    "Here we check the baseline model perplexity, to have an idea how good the quantization is."
   ]
  },
  {
   "cell_type": "code",
   "execution_count": 10,
   "metadata": {},
   "outputs": [
    {
     "name": "stderr",
     "output_type": "stream",
     "text": [
      "100%|██████████| 622/622 [00:20<00:00, 31.06it/s, val_loss=4.47, ppl=87.3]"
     ]
    },
    {
     "name": "stdout",
     "output_type": "stream",
     "text": [
      "val_loss:    4.46\t|\t ppl:   86.79\n"
     ]
    },
    {
     "name": "stderr",
     "output_type": "stream",
     "text": [
      "\n"
     ]
    }
   ],
   "source": [
    "from distiller.quantization import PostTrainLinearQuantizer, LinearQuantMode\n",
    "from copy import deepcopy\n",
    "\n",
    "# Load and evaluate the baseline model.\n",
    "man_model = torch.load('./logs/lstm/manual.checkpoint.pth.tar')\n",
    "val_loss = evaluate(man_model, val_data)\n",
    "print('val_loss:%8.2f\\t|\\t ppl:%8.2f' % (val_loss, np.exp(val_loss)))"
   ]
  },
  {
   "cell_type": "markdown",
   "metadata": {},
   "source": [
    "Now we do our magic - __Preparing the model for quantization__.  \n",
    "The quantizer replaces the layers in out model with their quantized versions.  "
   ]
  },
  {
   "cell_type": "code",
   "execution_count": 11,
   "metadata": {},
   "outputs": [],
   "source": [
    "# Define the quantizer\n",
    "quantizer = PostTrainLinearQuantizer(\n",
    "    deepcopy(man_model),\n",
    "    model_activation_stats='./logs/lstm/manual_lstm_pretrained_stats.yaml')\n",
    "\n",
    "# Quantizer magic\n",
    "stats_before_prepare = deepcopy(quantizer.model_activation_stats)\n",
    "dummy_input = (torch.zeros(1,1).to(dtype=torch.long), man_model.init_hidden(1))\n",
    "quantizer.prepare_model(dummy_input)"
   ]
  },
  {
   "cell_type": "markdown",
   "metadata": {},
   "source": [
    "### Net-Aware Quantization\n",
    "\n",
    "Note that we passes a dummy input to `prepare_model`. This is required for the quantizer to be able to create a graph representation of the model, and to infer the connectivity between the modules.  \n",
    "Understanding the connectivity of the model is required to enable **\"Net-aware quantization\"**. This term (coined in [\\[1\\]](#references), section 3.2.2), means we can achieve better quantization by considering sequences of operations.  \n",
    "In the case of LSTM, we have an element-wise add operation whose output is split into 4 and fed into either Tanh or Sigmoid activations. Both of these ops saturate at relatively small input values - tanh at approximately $|4|$, and sigmoid saturates at approximately $|6|$. This means we can safely clip the output of the element-wise add operation between $[-6,6]$. `PostTrainLinearQuantizer` detects this patterm and modifies the statistics accordingly."
   ]
  },
  {
   "cell_type": "code",
   "execution_count": 12,
   "metadata": {},
   "outputs": [
    {
     "name": "stdout",
     "output_type": "stream",
     "text": [
      "Stats BEFORE prepare_model:\n",
      "OrderedDict([('min', -13.792905807495117),\n",
      "             ('max', 15.628253936767578),\n",
      "             ('avg_min', -6.517626995670698),\n",
      "             ('avg_max', 5.397376813044116),\n",
      "             ('mean', -0.8030920241080964),\n",
      "             ('std', 1.3721356902378938),\n",
      "             ('shape', '(10, 6000)')])\n",
      "\n",
      "Stats AFTER to prepare_model:\n",
      "OrderedDict([('min', -6.0),\n",
      "             ('max', 6.0),\n",
      "             ('avg_min', -6.0),\n",
      "             ('avg_max', 5.397376813044116),\n",
      "             ('mean', -0.8030920241080964),\n",
      "             ('std', 1.3721356902378938),\n",
      "             ('shape', '(10, 6000)')])\n"
     ]
    }
   ],
   "source": [
    "import pprint\n",
    "pp = pprint.PrettyPrinter(indent=1)\n",
    "print('Stats BEFORE prepare_model:')\n",
    "pp.pprint(stats_before_prepare['rnn.cells.0.eltwiseadd_gate']['output'])\n",
    "\n",
    "print('\\nStats AFTER to prepare_model:')\n",
    "pp.pprint(quantizer.model_activation_stats['rnn.cells.0.eltwiseadd_gate']['output'])"
   ]
  },
  {
   "cell_type": "markdown",
   "metadata": {},
   "source": [
    "Note the value for `avg_max` did not change, since it was already below the clipping value of $6.0$."
   ]
  },
  {
   "cell_type": "markdown",
   "metadata": {},
   "source": [
    "### Inspecting the Quantized Model\n",
    "\n",
    "Let's see how the model has after being prepared for quantization:"
   ]
  },
  {
   "cell_type": "code",
   "execution_count": 13,
   "metadata": {},
   "outputs": [
    {
     "data": {
      "text/plain": [
       "DistillerRNNModel(\n",
       "  (encoder): RangeLinearEmbeddingWrapper(\n",
       "    (wrapped_module): Embedding(33278, 1500)\n",
       "  )\n",
       "  (rnn): DistillerLSTM(1500, 1500, num_layers=2, dropout=0.65, bidirectional=False)\n",
       "  (decoder): RangeLinearQuantParamLayerWrapper(\n",
       "    mode=SYMMETRIC, num_bits_acts=8, num_bits_params=8, num_bits_accum=32, clip_acts=NONE, per_channel_wts=False, scale_approx_mult_bits=None\n",
       "    preset_activation_stats=True\n",
       "    w_scale=123.2932, w_zero_point=0.0000\n",
       "    in_scale=127.0020, in_zero_point=0.0000\n",
       "    out_scale=3.8359, out_zero_point=0.0000\n",
       "    (wrapped_module): Linear(in_features=1500, out_features=33278, bias=True)\n",
       "  )\n",
       ")"
      ]
     },
     "execution_count": 13,
     "metadata": {},
     "output_type": "execute_result"
    }
   ],
   "source": [
    "quantizer.model"
   ]
  },
  {
   "cell_type": "markdown",
   "metadata": {},
   "source": [
    "Note how `encoder` and `decoder` have been replaced with wrapper layers (for the relevant module type), which handle the quantization. The same holds for the internal layers of the `DistillerLSTM` module, which we don't print for brevity sake. To \"peek\" inside the `DistillerLSTM` module, we need to access it directly. As an example, let's take a look at a couple of the internal layers:"
   ]
  },
  {
   "cell_type": "code",
   "execution_count": 14,
   "metadata": {},
   "outputs": [
    {
     "name": "stdout",
     "output_type": "stream",
     "text": [
      "RangeLinearQuantParamLayerWrapper(\n",
      "  mode=SYMMETRIC, num_bits_acts=8, num_bits_params=8, num_bits_accum=32, clip_acts=NONE, per_channel_wts=False, scale_approx_mult_bits=None\n",
      "  preset_activation_stats=True\n",
      "  w_scale=163.0813, w_zero_point=0.0000\n",
      "  in_scale=123.2932, in_zero_point=0.0000\n",
      "  out_scale=15.6020, out_zero_point=0.0000\n",
      "  (wrapped_module): Linear(in_features=1500, out_features=6000, bias=True)\n",
      ")\n",
      "RangeLinearQuantEltwiseAddWrapper(\n",
      "  mode=SYMMETRIC, num_bits_acts=8, num_bits_accum=32, clip_acts=NONE, scale_approx_mult_bits=None\n",
      "  preset_activation_stats=True\n",
      "  in_0_scale=15.601971626281738, in_0_zero_point=0.0\n",
      "  in_1_scale=8.754857063293457, in_1_zero_point=0.0\n",
      "  out_scale=21.166667938232422, out_zero_point=0.0\n",
      "  (wrapped_module): EltwiseAdd()\n",
      ")\n"
     ]
    }
   ],
   "source": [
    "print(quantizer.model.rnn.cells[0].fc_gate_x)\n",
    "print(quantizer.model.rnn.cells[0].eltwiseadd_gate)"
   ]
  },
  {
   "cell_type": "code",
   "execution_count": 15,
   "metadata": {},
   "outputs": [],
   "source": [
    "# print(quantizer.model.encoder)"
   ]
  },
  {
   "cell_type": "markdown",
   "metadata": {},
   "source": [
    "## Running the Quantized Model\n",
    "\n",
    "### Try 1: Initial settings - simple symmetric quantization\n",
    "\n",
    "Finally, let's go ahead and evaluate the quantized model:"
   ]
  },
  {
   "cell_type": "code",
   "execution_count": 16,
   "metadata": {},
   "outputs": [],
   "source": [
    "# val_loss = evaluate(quantizer.model.to(device), val_data)\n",
    "# print('val_loss:%8.2f\\t|\\t ppl:%8.2f' % (val_loss, np.exp(val_loss)))"
   ]
  },
  {
   "cell_type": "markdown",
   "metadata": {},
   "source": [
    "As we can see here, the perplexity has increased much - meaning our quantization has damaged the accuracy of our model."
   ]
  },
  {
   "cell_type": "markdown",
   "metadata": {},
   "source": [
    "### Try 2: Assymetric, per-channel\n",
    "\n",
    "Let's try quantizing each channel separately, and making the range of the quantization asymmetric."
   ]
  },
  {
   "cell_type": "code",
   "execution_count": 17,
   "metadata": {},
   "outputs": [],
   "source": [
    "# quantizer = PostTrainLinearQuantizer(\n",
    "#     deepcopy(man_model),\n",
    "#     model_activation_stats='./manual_lstm_pretrained_stats.yaml',\n",
    "#     mode=LinearQuantMode.ASYMMETRIC_SIGNED,\n",
    "#     per_channel_wts=True\n",
    "# )\n",
    "# quantizer.prepare_model(dummy_input)\n",
    "# quantizer.model"
   ]
  },
  {
   "cell_type": "code",
   "execution_count": 18,
   "metadata": {},
   "outputs": [],
   "source": [
    "# val_loss = evaluate(quantizer.model.to(device), val_data)\n",
    "# print('val_loss:%8.2f\\t|\\t ppl:%8.2f' % (val_loss, np.exp(val_loss)))"
   ]
  },
  {
   "cell_type": "markdown",
   "metadata": {},
   "source": [
    "A tiny bit better, but still no good."
   ]
  },
  {
   "cell_type": "markdown",
   "metadata": {},
   "source": [
    "### Try 3: Mixed FP16 and INT8\n",
    "\n",
    "Let us try the half precision (aka FP16) version of the model:"
   ]
  },
  {
   "cell_type": "code",
   "execution_count": 19,
   "metadata": {},
   "outputs": [],
   "source": [
    "# model_fp16 = deepcopy(man_model).half()\n",
    "# val_loss = evaluate(model_fp16, val_data)\n",
    "# print('val_loss: %8.6f\\t|\\t ppl:%8.2f' % (val_loss, np.exp(val_loss)))"
   ]
  },
  {
   "cell_type": "markdown",
   "metadata": {},
   "source": [
    "The result is very close to our original model! That means that the roundoff when quantizing linearly to 8-bit integers is what hurts our accuracy.\n",
    "\n",
    "Luckily, `PostTrainLinearQuantizer` supports quantizing some/all layers to FP16 using the `fp16` parameter. In light of what we just saw, and as stated in [\\[2\\]](#References), let's try keeping element-wise operations at FP16, and quantize everything else to 8-bit using the same settings as in try 2."
   ]
  },
  {
   "cell_type": "code",
   "execution_count": 20,
   "metadata": {},
   "outputs": [],
   "source": [
    "# overrides_yaml = \"\"\"\n",
    "# .*eltwise.*:\n",
    "#     fp16: true\n",
    "# encoder:\n",
    "#     fp16: true\n",
    "# decoder:\n",
    "#     fp16: true\n",
    "# \"\"\"\n",
    "# overrides = distiller.utils.yaml_ordered_load(overrides_yaml)\n",
    "# quantizer = PostTrainLinearQuantizer(\n",
    "#     deepcopy(man_model),\n",
    "#     model_activation_stats='./manual_lstm_pretrained_stats.yaml',\n",
    "#     mode=LinearQuantMode.ASYMMETRIC_SIGNED,\n",
    "#     overrides=overrides,\n",
    "#     per_channel_wts=True\n",
    "# )\n",
    "# quantizer.prepare_model(dummy_input)\n",
    "# quantizer.model"
   ]
  },
  {
   "cell_type": "code",
   "execution_count": 21,
   "metadata": {},
   "outputs": [],
   "source": [
    "# val_loss = evaluate(quantizer.model.to(device), val_data)\n",
    "# print('val_loss:%8.6f\\t|\\t ppl:%8.2f' % (val_loss, np.exp(val_loss)))"
   ]
  },
  {
   "cell_type": "markdown",
   "metadata": {},
   "source": [
    "The accuracy is still holding up very well, even though we quantized the inner linear layers!  "
   ]
  },
  {
   "cell_type": "markdown",
   "metadata": {},
   "source": [
    "### Try 4: Clipping Activations\n",
    "\n",
    "Now, lets try to choose different boundaries for `min`, `max`.  \n",
    "Instead of using absolute ones, we take the average of all batches (`avg_min`, `avg_max`), which is an indication of where usually most of the boundaries lie. This is done by specifying the `clip_acts` parameter to `ClipMode.AVG` or `\"AVG\"` in the quantizer ctor:"
   ]
  },
  {
   "cell_type": "code",
   "execution_count": 22,
   "metadata": {},
   "outputs": [],
   "source": [
    "# overrides_yaml = \"\"\"\n",
    "# encoder:\n",
    "#     fp16: true\n",
    "# decoder:\n",
    "#     fp16: true\n",
    "# \"\"\"\n",
    "# overrides = distiller.utils.yaml_ordered_load(overrides_yaml)\n",
    "# quantizer = PostTrainLinearQuantizer(\n",
    "#     deepcopy(man_model),\n",
    "#     model_activation_stats='./manual_lstm_pretrained_stats.yaml',\n",
    "#     mode=LinearQuantMode.ASYMMETRIC_SIGNED,\n",
    "#     overrides=overrides,\n",
    "#     per_channel_wts=True,\n",
    "#     clip_acts=\"AVG\"\n",
    "# )\n",
    "# quantizer.prepare_model(dummy_input)\n",
    "# val_loss = evaluate(quantizer.model.to(device), val_data)\n",
    "# print('val_loss:%8.6f\\t|\\t ppl:%8.2f' % (val_loss, np.exp(val_loss)))"
   ]
  },
  {
   "cell_type": "markdown",
   "metadata": {},
   "source": [
    "Great! Even though we quantized all of the layers except the embedding and the decoder - we got almost no accuracy penalty. Lets try quantizing them as well:"
   ]
  },
  {
   "cell_type": "code",
   "execution_count": 23,
   "metadata": {},
   "outputs": [
    {
     "name": "stderr",
     "output_type": "stream",
     "text": [
      "100%|██████████| 622/622 [02:20<00:00,  4.68it/s, val_loss=4.53, ppl=92.6] "
     ]
    },
    {
     "name": "stdout",
     "output_type": "stream",
     "text": [
      "val_loss:4.521964\t|\t ppl:   92.02\n"
     ]
    },
    {
     "name": "stderr",
     "output_type": "stream",
     "text": [
      "\n"
     ]
    }
   ],
   "source": [
    "quantizer = PostTrainLinearQuantizer(\n",
    "    deepcopy(man_model),\n",
    "    model_activation_stats='./logs/lstm/manual_lstm_pretrained_stats.yaml',\n",
    "    mode=LinearQuantMode.ASYMMETRIC_SIGNED,\n",
    "    per_channel_wts=True,\n",
    "    clip_acts=\"AVG\"\n",
    ")\n",
    "quantizer.prepare_model(dummy_input)\n",
    "val_loss = evaluate(quantizer.model.to(device), val_data)\n",
    "print('val_loss:%8.6f\\t|\\t ppl:%8.2f' % (val_loss, np.exp(val_loss)))"
   ]
  },
  {
   "cell_type": "code",
   "execution_count": null,
   "metadata": {},
   "outputs": [],
   "source": []
  },
  {
   "cell_type": "code",
   "execution_count": 45,
   "metadata": {},
   "outputs": [
    {
     "name": "stdout",
     "output_type": "stream",
     "text": [
      "using GPU: True\n"
     ]
    }
   ],
   "source": [
    "\n",
    "import numpy as np\n",
    "import os, shutil \n",
    "\n",
    "import torch\n",
    "import torch.nn as nn\n",
    "from torch.autograd import Variable\n",
    "\n",
    "import torchvision \n",
    "from fault_injection import * \n",
    "import pickle, time, collections\n",
    "from datetime import datetime  \n",
    "import distiller \n",
    "from matplotlib import pyplot as plt\n",
    "%matplotlib inline\n",
    "\n",
    "import matplotlib \n",
    "matplotlib.rcParams['pdf.fonttype'] = 42\n",
    "\n",
    "class Args(object):\n",
    "    pass \n",
    "args = Args() \n",
    "args.no_cuda = False \n",
    "args.seed = 1 \n",
    "args.save='./logs'\n",
    "torch.manual_seed(args.seed)\n",
    "\n",
    "args.cuda = not args.no_cuda and torch.cuda.is_available()\n",
    "print('using GPU:', args.cuda)"
   ]
  },
  {
   "cell_type": "markdown",
   "metadata": {},
   "source": [
    "# weights distribution"
   ]
  },
  {
   "cell_type": "code",
   "execution_count": 58,
   "metadata": {},
   "outputs": [],
   "source": [
    "model_name = 'lstm'\n",
    "def plot_model_dist(model):\n",
    "    \n",
    "    # check the distribution of parameters all weights\n",
    "    thr = 32\n",
    "    total_values, num_weights = 0, 0 \n",
    "    counter = collections.Counter()\n",
    "    for param_name, param in model.named_parameters():\n",
    "        total_values += param.nelement()\n",
    "        if len(param.size()) < 2:\n",
    "            continue\n",
    "        num_weights += param.nelement()\n",
    "#         print('param_name', param_name)\n",
    "#         print('param: min,max', np.min(param.data.cpu().numpy()), np.max(param.data.cpu().numpy()))\n",
    "        counter.update(collections.Counter(np.abs(param.data.cpu().numpy().ravel())//thr +1))\n",
    "\n",
    "    tmp = sorted(counter.items(), key=lambda x: x[0])\n",
    "    values, counts = zip(*tmp)\n",
    "    print('before merge')\n",
    "    print('values:', values)\n",
    "    print('counts:', counts)\n",
    "    \n",
    "    # merge the interval [64, 96] and [96, 128]. In case there is 128, #counts=5 need to merge the last three intervals. \n",
    "    values = list(values)[:3]\n",
    "    counts = list(counts)\n",
    "    counts[2] += sum(counts[3:])\n",
    "    counts = counts[:3]\n",
    "    print('after merge:')\n",
    "    print('values', values)\n",
    "    print('counts', counts)\n",
    "\n",
    "    total_weights = sum(list(counts))\n",
    "    assert total_weights == num_weights\n",
    "    print('#weights:', total_weights, ', #params:', total_values, 'percentage:', '%.6f' %(num_weights/total_values))\n",
    "    \n",
    "    fontsize = 16\n",
    "    percentages = [count*100/total_weights for count in counts]\n",
    "    bar = plt.bar(values, percentages)\n",
    "    for rect in bar:\n",
    "        height = rect.get_height()\n",
    "        plt.text(rect.get_x() + rect.get_width()/2.0, height, '%.2f%%' %(height), ha='center', va='bottom', fontsize = 16)\n",
    "    print(['%.2f' %(p) for p in percentages])\n",
    "    #plt.hist(param.data.cpu().numpy().ravel(), bins=10, density=True)\n",
    "    # plt.xticks(values, [str(int(v)*thr) for v in values])\n",
    "    plt.xticks(values, ['[0, 32)', '[32, 64)', '[64, 128]'], fontsize = 16)\n",
    "    plt.title(model_name, fontsize = 16)\n",
    "    #     plt.grid()\n",
    "    plt.ylim(0, 110)\n",
    "#     plt.show()\n",
    "    plt.yticks(fontsize = 16)\n",
    "    plt.xlabel('value ranges', fontsize = 16)\n",
    "    plt.ylabel('percentage (%)', fontsize = 16)\n",
    "    plt.show()\n",
    "#     figdir = './figures/weight_distribution/'\n",
    "#     figname = 'lstm_int8_weight_distribution.pdf'\n",
    "#     check_directory(figdir)\n",
    "#     plt.savefig(os.path.join(figdir, figname), bbox_inches='tight')"
   ]
  },
  {
   "cell_type": "code",
   "execution_count": 59,
   "metadata": {},
   "outputs": [
    {
     "name": "stdout",
     "output_type": "stream",
     "text": [
      "before merge\n",
      "values: (1.0, 2.0, 3.0, 4.0, 5.0)\n",
      "counts: (106462831, 23737638, 4772895, 801471, 59165)\n",
      "after merge:\n",
      "values [1.0, 2.0, 3.0]\n",
      "counts [106462831, 23737638, 5633531]\n",
      "#weights: 135834000 , #params: 135891278 percentage: 0.999579\n",
      "['78.38', '17.48', '4.15']\n"
     ]
    },
    {
     "data": {
      "image/png": "[encoded data removed]",
      "text/plain": [
       "<Figure size 432x288 with 1 Axes>"
      ]
     },
     "metadata": {},
     "output_type": "display_data"
    }
   ],
   "source": [
    "plot_model_dist(quantizer.model)"
   ]
  },
  {
   "cell_type": "markdown",
   "metadata": {},
   "source": [
    "# fault injection experiments"
   ]
  },
  {
   "cell_type": "code",
   "execution_count": 24,
   "metadata": {},
   "outputs": [
    {
     "name": "stdout",
     "output_type": "stream",
     "text": [
      "using GPU: True\n"
     ]
    }
   ],
   "source": []
  },
  {
   "cell_type": "code",
   "execution_count": 25,
   "metadata": {},
   "outputs": [],
   "source": [
    "def check_directory(path):\n",
    "    if not os.path.isdir(path):\n",
    "        os.makedirs(path)\n",
    "\n",
    "def save_pickle(save_path, save_name, save_object):\n",
    "    check_directory(save_path)\n",
    "    filepath = os.path.join(save_path, save_name)\n",
    "    pickle.dump(save_object, open(filepath,\"wb\" ))\n",
    "    print('File saved to:', filepath)\n",
    "\n",
    "def load_pickle(load_path, load_name=None, verbose=False):\n",
    "    if load_name:\n",
    "        filepath =  os.path.join(load_path, load_name)\n",
    "    else:\n",
    "        filepath = load_path \n",
    "    if verbose:\n",
    "        print('Load pickle file:', filepath)\n",
    "    return pickle.load( open(filepath, \"rb\" ))\n",
    "def write_detailed_info(log_path, info):\n",
    "    with open(os.path.join(log_path, 'logs.txt'), 'a') as f:\n",
    "        f.write(info+'\\n')"
   ]
  },
  {
   "cell_type": "code",
   "execution_count": 26,
   "metadata": {},
   "outputs": [
    {
     "name": "stdout",
     "output_type": "stream",
     "text": [
      "path already exist! remove path: ./logs/lstm/wikitext/int8/faults_network_rb\n",
      "log will save to: ./logs/lstm/wikitext/int8/faults_network_rb\n",
      "{'save': './logs/lstm/wikitext/int8/faults_network_rb', 'seed': 1, 'dataset': 'wikitext', 'cuda': True, 'fault_type': 'faults_network_rb', 'no_cuda': False, 'data_type': 'int8', 'model_name': 'lstm'}\n"
     ]
    }
   ],
   "source": [
    "args.model_name = 'lstm'\n",
    "args.dataset = 'wikitext'\n",
    "args.data_type = 'int8'\n",
    "args.fault_type = 'faults_network_rb'\n",
    "\n",
    "args.save = os.path.join(args.save, args.model_name, args.dataset, args.data_type, args.fault_type) \n",
    "if os.path.exists(args.save):\n",
    "#     shutil.rmtree(args.save)\n",
    "    print('path already exist! remove path:', args.save)\n",
    "else:\n",
    "    os.makedirs(args.save)\n",
    "print('log will save to:', args.save)\n",
    "print(args.__dict__)\n",
    "\n",
    "def select_fault_injection_function():\n",
    "    fn = {\n",
    "          'int8': {\n",
    "              'faults_network_rb': inject_faults_int8_random_bit_position, \n",
    "              'faults_network_rb_ps1': inject_faults_int8_random_bit_position_ps1,\n",
    "              'faults_network_rb_parity_zero': inject_faults_int8_random_bit_position_parity_zero,\n",
    "              'faults_network_rb_parity_avg': inject_faults_int8_random_bit_position_parity_avg,\n",
    "              'faults_network_rb_ecc': inject_faults_int8_random_bit_position_ecc,\n",
    "              'faults_network_rb_bch': inject_faults_int8_random_bit_position_bch,\n",
    "          }\n",
    "         }\n",
    "    return fn[args.data_type][args.fault_type]  \n",
    "fault_injection_fn = select_fault_injection_function()"
   ]
  },
  {
   "cell_type": "code",
   "execution_count": 27,
   "metadata": {},
   "outputs": [
    {
     "name": "stdout",
     "output_type": "stream",
     "text": [
      "# weights params: 6 , total_values: 135834000\n",
      "\t 0 encoder.wrapped_module.weight 49917000 (0.367485)\n",
      "\t 1 rnn.cells.0.fc_gate_x.wrapped_module.weight 9000000 (0.066257)\n",
      "\t 2 rnn.cells.0.fc_gate_h.wrapped_module.weight 9000000 (0.066257)\n",
      "\t 3 rnn.cells.1.fc_gate_x.wrapped_module.weight 9000000 (0.066257)\n",
      "\t 4 rnn.cells.1.fc_gate_h.wrapped_module.weight 9000000 (0.066257)\n",
      "\t 5 decoder.wrapped_module.weight 49917000 (0.367485)\n"
     ]
    }
   ],
   "source": [
    "def get_weights(model):\n",
    "    # get weights stat    \n",
    "    weights = [] \n",
    "    weights_names = [] \n",
    "    for name, param in model.named_parameters():\n",
    "        # don't do simulation on bias and batch normalization layer\n",
    "        if len(param.size()) >= 2:\n",
    "            weights.append(param) \n",
    "            weights_names.append(name)\n",
    "    return weights, weights_names\n",
    "weights, weights_names = get_weights(quantizer.model)\n",
    "# weights, weights_names = get_weights(model)\n",
    "weights_sizes = [param.nelement() for param in weights]\n",
    "total_values = sum(weights_sizes)\n",
    "print('# weights params:', len(weights), ', total_values:', total_values)\n",
    "for i, item in enumerate(zip(weights_names, weights_sizes)):\n",
    "    print('\\t', i, item[0], item[1], '(%f)' %(item[1]/total_values))"
   ]
  },
  {
   "cell_type": "code",
   "execution_count": 28,
   "metadata": {},
   "outputs": [],
   "source": [
    "def perturb_weights(model, n_faults, trial_id, log_path, fault_injection_fn): \n",
    "    # use trial_id to setup random seed \n",
    "    start = time.time()\n",
    "    np.random.seed(trial_id)\n",
    "    random = np.random  \n",
    "    flipped_bits, changed_params, stats = 0, 0, {}\n",
    "    \n",
    "    # get the n_bits for each weight \n",
    "    weights, _ = get_weights(model)\n",
    "    weights_sizes = [param.nelement() for param in weights]\n",
    "    total_values = sum(weights_sizes)\n",
    "    p = [size/total_values for size in weights_sizes]\n",
    "    samples = random.choice(len(weights), size=n_faults, p=p)\n",
    "    counter = collections.Counter(samples)\n",
    "    \n",
    "    print('samples:', sorted(counter.items())) \n",
    "    \n",
    "    for weight_id in sorted(counter.keys()):\n",
    "        param = weights[weight_id]\n",
    "        tensor = param.data.view(-1)\n",
    "#         tensor_copy = tensor.clone() \n",
    "        \n",
    "        # flip n_bits number of values from tensor\n",
    "        n_bits = counter[weight_id]\n",
    "        res = fault_injection_fn(tensor, random, n_bits)\n",
    "        stats[weight_id] = res \n",
    "        if isinstance(res, tuple):\n",
    "            flipped_bits += sum([len(arr) for x, arr in stats[weight_id][0].items()])\n",
    "            changed_params += len(stats[weight_id][0])\n",
    "#             print('nonzero', torch.nonzero(tensor_copy.view(-1) - tensor.view(-1)).size()[0], len(stats[weight_id][0]))\n",
    "        else:\n",
    "            flipped_bits += sum([len(arr) for x, arr in stats[weight_id].items()])\n",
    "            changed_params += len(stats[weight_id])\n",
    "#             print('nonzero', torch.nonzero(tensor_copy.view(-1) - tensor.view(-1)).size()[0], len(stats[weight_id]))\n",
    "    \n",
    "    assert flipped_bits == n_faults and changed_params <= n_faults, '%d, %d, %d' %(flipped_bits, changed_params, n_faults) \n",
    "    \n",
    "    total_bits = total_values* 8\n",
    "    info = 'trial: %d, n_faults: %d, total_params: %d' %(trial_id, n_faults, total_values)\n",
    "    info += ', flipped_bits: %d (%.2e)' %(flipped_bits, flipped_bits*1.0/total_bits)\n",
    "    info += ', changed_params: %d (%.2e)' %(changed_params, changed_params*1.0/total_values)\n",
    "    \n",
    "    end = time.time() - start\n",
    "    print('Finish fault injection, time (s):', end) \n",
    "    \n",
    "    save_path = os.path.join(log_path, 'stats')\n",
    "    save_name = str(trial_id) + '.pkl'\n",
    "    save_pickle(save_path, save_name, stats)\n",
    "    \n",
    "    return info  \n",
    "\n",
    "        "
   ]
  },
  {
   "cell_type": "code",
   "execution_count": 30,
   "metadata": {},
   "outputs": [
    {
     "name": "stdout",
     "output_type": "stream",
     "text": [
      "\n",
      "Simulation start:  2019-07-31 14:06:27.536585\n",
      "\n",
      "fault_rate: 0.001 , n_faults: 1086672 , trial_id: 0\n",
      "samples: [(0, 398670), (1, 71977), (2, 71712), (3, 72330), (4, 72117), (5, 399866)]\n",
      "sample time (s): 25.7883 , injection_time (s): 55.7231\n",
      "sample time (s): 4.1941 , injection_time (s): 10.0535\n",
      "sample time (s): 4.1829 , injection_time (s): 10.4972\n",
      "sample time (s): 4.2507 , injection_time (s): 10.5609\n",
      "sample time (s): 4.2025 , injection_time (s): 10.0564\n",
      "sample time (s): 26.1074 , injection_time (s): 56.9920\n",
      "Finish fault injection, time (s): 223.13528871536255\n",
      "File saved to: ./logs/lstm/wikitext/int8/faults_network_rb/r0.001/stats/0.pkl\n"
     ]
    },
    {
     "name": "stderr",
     "output_type": "stream",
     "text": [
      "100%|██████████| 622/622 [02:20<00:00,  4.71it/s, val_loss=4.54, ppl=93.6] "
     ]
    },
    {
     "name": "stdout",
     "output_type": "stream",
     "text": [
      "trial: 0, n_faults: 1086672, total_params: 135834000, flipped_bits: 1086672 (1.00e-03), changed_params: 1082899 (7.97e-03), test_time(s): 375, test_loss: 4.532776, perplexity: 93.016409 \n",
      "\n",
      "Simulation ends: 2019-07-31 14:12:43.180116 , duration(s):375.64\n"
     ]
    },
    {
     "name": "stderr",
     "output_type": "stream",
     "text": [
      "\n"
     ]
    }
   ],
   "source": [
    "##########################\n",
    "## start simulation ######\n",
    "##########################\n",
    "args.start_trial_id = 0\n",
    "args.end_trial_id = 10\n",
    "# for each fault_rate, use fault rate to get the number of faults\n",
    "print('\\nSimulation start: ', datetime.now())\n",
    "simulation_start = time.time()\n",
    "# fault_rates = [10**x for x in range(-8, -2, 1)]\n",
    "fault_rates = [10**-3] \n",
    "for fault_rate in fault_rates:\n",
    "    \n",
    "    n_faults = int(total_values * 8 * fault_rate)\n",
    "    if n_faults <= 0: \n",
    "        continue\n",
    "    \n",
    "    folder = 'r%s' %(fault_rate)\n",
    "    log_path = os.path.join(args.save, folder)\n",
    "    check_directory(log_path)\n",
    "    \n",
    "    # for each trial, initialize the model  \n",
    "    for trial_id in range(args.start_trial_id, args.end_trial_id):\n",
    "        print('\\nfault_rate:', fault_rate, ', n_faults:', n_faults, ', trial_id:', trial_id)\n",
    "        start = time.time()\n",
    "        quantized_model = deepcopy(quantizer.model)\n",
    "        quantized_model.cpu()\n",
    "        \n",
    "        info = perturb_weights(quantized_model, n_faults, trial_id, log_path, fault_injection_fn) \n",
    "        val_loss = evaluate(quantized_model.to(device), val_data)\n",
    "        ppl = np.exp(val_loss)\n",
    "        duration = time.time() - start  \n",
    "\n",
    "        info += ', test_time(s): %d' %(duration)\n",
    "        info += ', test_loss: %f, perplexity: %f' %(val_loss, ppl)\n",
    "        print(info, '\\n')\n",
    "        write_detailed_info(log_path, info)\n",
    "        \n",
    "        \n",
    "#         break \n",
    "#     break \n",
    "simulation_time = time.time() - simulation_start\n",
    "print('Simulation ends:', datetime.now(), ', duration(s):%.2f' %(simulation_time)) "
   ]
  },
  {
   "cell_type": "code",
   "execution_count": null,
   "metadata": {},
   "outputs": [],
   "source": []
  },
  {
   "cell_type": "code",
   "execution_count": null,
   "metadata": {},
   "outputs": [],
   "source": []
  },
  {
   "cell_type": "markdown",
   "metadata": {},
   "source": [
    "Here we see that sometimes quantizing with the right boundaries gives better results than actually using floating point operations (even though they are half precision). "
   ]
  },
  {
   "cell_type": "markdown",
   "metadata": {},
   "source": [
    "## Conclusion\n",
    "\n",
    "Choosing the right boundaries for quantization  was crucial for achieving almost no degradation in accrucay of LSTM.  \n",
    "  \n",
    "Here we showed how to use the Distiller quantization API to quantize an RNN model, by converting the PyTorch implementation into a modular one and then quantizing each layer separately."
   ]
  },
  {
   "cell_type": "markdown",
   "metadata": {},
   "source": [
    "## References\n",
    "\n",
    "1. **Jongsoo Park, Maxim Naumov, Protonu Basu, Summer Deng, Aravind Kalaiah, Daya Khudia, James Law, Parth Malani, Andrey Malevich, Satish Nadathur, Juan Miguel Pino, Martin Schatz, Alexander Sidorov, Viswanath Sivakumar, Andrew Tulloch, Xiaodong Wang, Yiming Wu, Hector Yuen, Utku Diril, Dmytro Dzhulgakov, Kim Hazelwood, Bill Jia, Yangqing Jia, Lin Qiao, Vijay Rao, Nadav Rotem, Sungjoo Yoo, Mikhail Smelyanskiy**. Deep Learning Inference in Facebook Data Centers: Characterization, Performance Optimizations and Hardware Implications. [arxiv:1811.09886](https://arxiv.org/abs/1811.09886)\n",
    "\n",
    "2. **Qinyao He, He Wen, Shuchang Zhou, Yuxin Wu, Cong Yao, Xinyu Zhou, Yuheng Zou**. Effective Quantization Methods for Recurrent Neural Networks. [arxiv:1611.10176](https://arxiv.org/abs/1611.10176)"
   ]
  }
 ],
 "metadata": {
  "kernelspec": {
   "display_name": "Python 3",
   "language": "python",
   "name": "python3"
  },
  "language_info": {
   "codemirror_mode": {
    "name": "ipython",
    "version": 3
   },
   "file_extension": ".py",
   "mimetype": "text/x-python",
   "name": "python",
   "nbconvert_exporter": "python",
   "pygments_lexer": "ipython3",
   "version": "3.5.5"
  }
 },
 "nbformat": 4,
 "nbformat_minor": 2
}
