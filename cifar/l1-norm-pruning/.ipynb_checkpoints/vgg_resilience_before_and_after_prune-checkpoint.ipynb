{
 "cells": [
  {
   "cell_type": "code",
   "execution_count": 3,
   "metadata": {},
   "outputs": [],
   "source": [
    "import os, re \n",
    "import numpy as np \n",
    "from matplotlib import pyplot as pl\n",
    "%matplotlib inline"
   ]
  },
  {
   "cell_type": "code",
   "execution_count": 8,
   "metadata": {},
   "outputs": [],
   "source": [
    "def get_results_dir(model_name, dataset_name, model_type, fault_type):\n",
    "    d = {\n",
    "        'vgg16': {\n",
    "            'cifar10': {\n",
    "                'full': {\n",
    "                    'faults': './logs/vgg16/cifar10/faults',\n",
    "                    'zero_bit_masking':  './logs/vgg16/cifar10/zero_bit_masking',\n",
    "                },\n",
    "                'prune': {\n",
    "                    'faults': './logs/vgg16/cifar10/prune/scratchB/faults',\n",
    "                    'zero_bit_masking': './logs/vgg16/cifar10/prune/scratchB/zero_bit_masking',\n",
    "                }\n",
    "            }\n",
    "        }\n",
    "        \n",
    "    }\n",
    "    return d[model_name][dataset_name][model_type][fault_type]\n",
    "\n",
    "\n",
    "\n",
    "model_name = 'vgg16'\n",
    "dataset_name = 'cifar10'\n",
    "\n",
    "model_types = ['full', 'prune']\n",
    "# fault_types = ['faults', 'zero_bit_masking']\n",
    "fault_types = ['faults']\n"
   ]
  },
  {
   "cell_type": "code",
   "execution_count": 9,
   "metadata": {},
   "outputs": [
    {
     "ename": "TypeError",
     "evalue": "parse_log() takes 1 positional argument but 3 were given",
     "output_type": "error",
     "traceback": [
      "\u001b[0;31m---------------------------------------------------------------------------\u001b[0m",
      "\u001b[0;31mTypeError\u001b[0m                                 Traceback (most recent call last)",
      "\u001b[0;32m<ipython-input-9-7916bd426b79>\u001b[0m in \u001b[0;36m<module>\u001b[0;34m\u001b[0m\n\u001b[1;32m     41\u001b[0m     \u001b[0mdata\u001b[0m\u001b[0;34m[\u001b[0m\u001b[0mmodel_type\u001b[0m\u001b[0;34m]\u001b[0m \u001b[0;34m=\u001b[0m \u001b[0;34m{\u001b[0m\u001b[0;34m}\u001b[0m\u001b[0;34m\u001b[0m\u001b[0;34m\u001b[0m\u001b[0m\n\u001b[1;32m     42\u001b[0m     \u001b[0;32mfor\u001b[0m \u001b[0mfault_type\u001b[0m \u001b[0;32min\u001b[0m \u001b[0mfault_types\u001b[0m\u001b[0;34m:\u001b[0m\u001b[0;34m\u001b[0m\u001b[0;34m\u001b[0m\u001b[0m\n\u001b[0;32m---> 43\u001b[0;31m         \u001b[0mresults\u001b[0m \u001b[0;34m=\u001b[0m \u001b[0mload_results\u001b[0m\u001b[0;34m(\u001b[0m\u001b[0mmodel_type\u001b[0m\u001b[0;34m,\u001b[0m \u001b[0mfault_type\u001b[0m\u001b[0;34m)\u001b[0m\u001b[0;34m\u001b[0m\u001b[0;34m\u001b[0m\u001b[0m\n\u001b[0m\u001b[1;32m     44\u001b[0m         \u001b[0mdata\u001b[0m\u001b[0;34m[\u001b[0m\u001b[0mmodel_type\u001b[0m\u001b[0;34m]\u001b[0m\u001b[0;34m[\u001b[0m\u001b[0mfault_type\u001b[0m\u001b[0;34m]\u001b[0m \u001b[0;34m=\u001b[0m \u001b[0mresults\u001b[0m\u001b[0;34m\u001b[0m\u001b[0;34m\u001b[0m\u001b[0m\n\u001b[1;32m     45\u001b[0m \u001b[0;34m\u001b[0m\u001b[0m\n",
      "\u001b[0;32m<ipython-input-9-7916bd426b79>\u001b[0m in \u001b[0;36mload_results\u001b[0;34m(model_type, fault_type)\u001b[0m\n\u001b[1;32m     31\u001b[0m         \u001b[0;31m# each folder has a log.txt file and a folder that contains the stats\u001b[0m\u001b[0;34m\u001b[0m\u001b[0;34m\u001b[0m\u001b[0;34m\u001b[0m\u001b[0m\n\u001b[1;32m     32\u001b[0m         \u001b[0mlog_path\u001b[0m \u001b[0;34m=\u001b[0m \u001b[0mos\u001b[0m\u001b[0;34m.\u001b[0m\u001b[0mpath\u001b[0m\u001b[0;34m.\u001b[0m\u001b[0mjoin\u001b[0m\u001b[0;34m(\u001b[0m\u001b[0mresults_dir\u001b[0m\u001b[0;34m,\u001b[0m \u001b[0mfolder\u001b[0m\u001b[0;34m,\u001b[0m \u001b[0;34m'log.txt'\u001b[0m\u001b[0;34m)\u001b[0m\u001b[0;34m\u001b[0m\u001b[0;34m\u001b[0m\u001b[0m\n\u001b[0;32m---> 33\u001b[0;31m         \u001b[0mlog_result\u001b[0m \u001b[0;34m=\u001b[0m \u001b[0mparse_log\u001b[0m\u001b[0;34m(\u001b[0m\u001b[0mlog_path\u001b[0m\u001b[0;34m,\u001b[0m \u001b[0mmodel_name\u001b[0m\u001b[0;34m,\u001b[0m \u001b[0mdataset_name\u001b[0m\u001b[0;34m)\u001b[0m\u001b[0;34m\u001b[0m\u001b[0;34m\u001b[0m\u001b[0m\n\u001b[0m\u001b[1;32m     34\u001b[0m         \u001b[0mfault_rate\u001b[0m \u001b[0;34m=\u001b[0m \u001b[0mfloat\u001b[0m\u001b[0;34m(\u001b[0m\u001b[0mfolder\u001b[0m\u001b[0;34m[\u001b[0m\u001b[0;36m1\u001b[0m\u001b[0;34m:\u001b[0m\u001b[0;34m]\u001b[0m\u001b[0;34m)\u001b[0m\u001b[0;34m\u001b[0m\u001b[0;34m\u001b[0m\u001b[0m\n\u001b[1;32m     35\u001b[0m         \u001b[0mresults\u001b[0m\u001b[0;34m[\u001b[0m\u001b[0mfault_rate\u001b[0m\u001b[0;34m]\u001b[0m \u001b[0;34m=\u001b[0m \u001b[0mlog_result\u001b[0m\u001b[0;34m\u001b[0m\u001b[0;34m\u001b[0m\u001b[0m\n",
      "\u001b[0;31mTypeError\u001b[0m: parse_log() takes 1 positional argument but 3 were given"
     ]
    }
   ],
   "source": [
    "def parse_log(log_path):\n",
    "    # result = {trial_id: [#flipped_bits, #changed_params, test_accuracy]}\n",
    "    result = {}\n",
    "    with open(log_path, 'r') as f:\n",
    "        lines = f.readlines()\n",
    "        for line in lines:\n",
    "            line = line.strip()\n",
    "            if line:\n",
    "                flipped_bits, changed_params, test_accuracy = 0, 0, None \n",
    "                items = line.split(',')\n",
    "                for item in items:\n",
    "                    if 'flipped_bits' in item:\n",
    "                        flipped_bits = int(item.split()[1])\n",
    "                    if 'changed_params' in item:\n",
    "                        changed_params = int(item.split()[1])\n",
    "                    if 'test_accuracy' in item:\n",
    "                        test_accuracy = float(item.split()[1])\n",
    "                    if 'trial' in item:\n",
    "                        trial = int(item.split()[1])\n",
    "                if test_accuracy:\n",
    "                    result[trial] = [flipped_bits, changed_params, test_accuracy]\n",
    "#     result = [result[trial_id] for trial_id in sorted(result.keys())]\n",
    "    return result \n",
    "\n",
    "def load_results(model_type, fault_type):\n",
    "    # results = {fault_rate: trial_id: [#flipped bits, # changed_params, test_accuracy]}\n",
    "    results = {}\n",
    "    results_dir = get_results_dir(model_name, dataset_name, model_type, fault_type)\n",
    "    fault_rates_folders = os.listdir(results_dir)\n",
    "    for folder in fault_rates_folders:\n",
    "        # each folder has a log.txt file and a folder that contains the stats\n",
    "        log_path = os.path.join(results_dir, folder, 'log.txt')\n",
    "        log_result = parse_log(log_path)\n",
    "        fault_rate = float(folder[1:])\n",
    "        results[fault_rate] = log_result\n",
    "#         print fault_rate, log_result \n",
    "    return results \n",
    "\n",
    "data = {}\n",
    "for model_type in model_types:\n",
    "    data[model_type] = {} \n",
    "    for fault_type in fault_types:\n",
    "        results = load_results(model_type, fault_type)\n",
    "        data[model_type][fault_type] = results \n",
    "        \n",
    "print(data) "
   ]
  },
  {
   "cell_type": "code",
   "execution_count": null,
   "metadata": {},
   "outputs": [],
   "source": []
  }
 ],
 "metadata": {
  "kernelspec": {
   "display_name": "Python 3",
   "language": "python",
   "name": "python3"
  },
  "language_info": {
   "codemirror_mode": {
    "name": "ipython",
    "version": 3
   },
   "file_extension": ".py",
   "mimetype": "text/x-python",
   "name": "python",
   "nbconvert_exporter": "python",
   "pygments_lexer": "ipython3",
   "version": "3.7.2"
  }
 },
 "nbformat": 4,
 "nbformat_minor": 2
}
